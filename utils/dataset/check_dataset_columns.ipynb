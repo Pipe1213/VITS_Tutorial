{
 "cells": [
  {
   "cell_type": "code",
   "execution_count": 1,
   "metadata": {},
   "outputs": [
    {
     "name": "stdout",
     "output_type": "stream",
     "text": [
      "Preprocessing completed. Check the log file for skipped lines.\n"
     ]
    }
   ],
   "source": [
    "input_file = 'train_set_ms.txt'\n",
    "output_file = 'cleaned_train_set_ms.txt'\n",
    "log_file = 'preprocess_log.txt'\n",
    "\n",
    "def preprocess_file(input_file, output_file, log_file):\n",
    "    with open(input_file, 'r') as infile, open(output_file, 'w') as outfile, open(log_file, 'w') as logfile:\n",
    "        for line_num, line in enumerate(infile, 1):\n",
    "            elements = line.strip().split('|')\n",
    "            if len(elements) == 3:\n",
    "                outfile.write(line)\n",
    "            else:\n",
    "                logfile.write(f\"Line {line_num} skipped: {line.strip()} (found {len(elements)} elements)\\n\")\n",
    "\n",
    "if __name__ == \"__main__\":\n",
    "    preprocess_file(input_file, output_file, log_file)\n",
    "    print(\"Preprocessing completed. Check the log file for skipped lines.\")\n",
    "\n"
   ]
  }
 ],
 "metadata": {
  "kernelspec": {
   "display_name": "base",
   "language": "python",
   "name": "python3"
  },
  "language_info": {
   "codemirror_mode": {
    "name": "ipython",
    "version": 3
   },
   "file_extension": ".py",
   "mimetype": "text/x-python",
   "name": "python",
   "nbconvert_exporter": "python",
   "pygments_lexer": "ipython3",
   "version": "3.11.8"
  }
 },
 "nbformat": 4,
 "nbformat_minor": 2
}
